{
 "cells": [
  {
   "cell_type": "code",
   "execution_count": 1,
   "metadata": {},
   "outputs": [],
   "source": [
    "import pandas as pd"
   ]
  },
  {
   "cell_type": "code",
   "execution_count": 2,
   "metadata": {},
   "outputs": [],
   "source": [
    "data = pd.read_csv('../../data/wgs_all.csv', sep=';')"
   ]
  },
  {
   "cell_type": "code",
   "execution_count": 18,
   "metadata": {},
   "outputs": [],
   "source": [
    "# select only rows where IMPACT is in (3.MODERATE, 4.HIGH)\n",
    "data_filtered = data[data['IMPACT'].isin(['3.MODERATE', '4.HIGH'])]\n",
    "\n",
    "# select all columns that start with Fm_\n",
    "data_filtered = data_filtered.filter(regex='^Fm_')\n",
    "\n",
    "# select all the rows where Fm_G4_36.GT is either 1/1 or 1|1 and all values in other columns that start with Fm_ start with 0\n",
    "data_filtered = data_filtered[(data_filtered['Fm_G4_36.GT'] == '1/1') | (data_filtered['Fm_G4_36.GT'] == '1|1')]\n",
    "data_filtered = data_filtered.drop(['Fm_G4_36.GT'], axis=1)\n",
    "\n",
    "# select all the rows in which all values have 0 as the first character\n",
    "data_filtered = data_filtered[(data_filtered.apply(lambda x: x.str.startswith('0').all(), axis=1))]\n",
    "\n",
    "selected_indices = data_filtered.index\n",
    "\n",
    "# select the rows from the original data that are in the selected_indices\n",
    "data_filtered = data.loc[selected_indices]"
   ]
  },
  {
   "cell_type": "code",
   "execution_count": 20,
   "metadata": {},
   "outputs": [
    {
     "data": {
      "text/plain": [
       "array(['ADAMTSL3', 'AGAP5', 'ALDH1B1', 'ALPK1', 'ANKEF1', 'APOL4',\n",
       "       'ATP8B1', 'C10orf71', 'C16orf96', 'CCHCR1', 'CD207', 'CDSN',\n",
       "       'CFAP46', 'CHRD', 'CNKSR1', 'CNTN5', 'COL9A2', 'CPT2', 'CYP2F1',\n",
       "       'DACH1', 'DNAH10', 'DNAH14', 'FAM131C', 'GIMAP6', 'GIMD1',\n",
       "       'GTPBP6', 'GUCA2B', 'HCN4', 'HLA-DQA1', 'HLA-DRB1', 'HLA-DRB5',\n",
       "       'HSPG2', 'HUS1B', 'IDH1', 'IQANK1', 'ITIH3', 'KRT10', 'KRT40',\n",
       "       'KRTAP3-2', 'KRTAP5-5', 'LINGO3', 'MAP3K19', 'MIR31HG', 'MOCS1',\n",
       "       'MORC1', 'MUC5B', 'MYMX', 'MYO5C', 'MZF1', 'NCKAP5', 'NMUR1',\n",
       "       'OVCH1', 'PBLD', 'PDIA2', 'PGR', 'POLDIP3', 'RCCD1', 'SNTG2',\n",
       "       'SPRR3', 'SYNPO2L', 'TBCK', 'TEX15', 'TGFBR1', 'TINAG', 'TSNAXIP1',\n",
       "       'TSPOAP1', 'UBXN11', 'UGT1A8', 'UNC5CL', 'USHBP1', 'VWF', 'ZBED6',\n",
       "       'ZC3H3', 'ZGRF1', 'ZNF208'], dtype=object)"
      ]
     },
     "execution_count": 20,
     "metadata": {},
     "output_type": "execute_result"
    }
   ],
   "source": [
    "import numpy as np\n",
    "\n",
    "np.sort(data_filtered.SYMBOL.unique())"
   ]
  },
  {
   "cell_type": "code",
   "execution_count": 21,
   "metadata": {},
   "outputs": [
    {
     "data": {
      "text/plain": [
       "11435"
      ]
     },
     "execution_count": 21,
     "metadata": {},
     "output_type": "execute_result"
    }
   ],
   "source": [
    "# select only rows where Fm_G4_36.GT is not in (0/0, 0|0, ./., .|.) and Fm_G4_37.GT is in (0/0, 0|0) and SYMBOL is not . and IMPACT is in (3.MODERATE, 4.HIGH)\n",
    "andzia = data[~data['Fm_G4_36.GT'].isin(['0/0', '0|0', './.', '.|.']) & data['Fm_G4_37.GT'].isin(['0/0', '0|0']) & (data['SYMBOL'] != '.')]# & data['IMPACT'].isin(['3.MODERATE', '4.HIGH'])]\n",
    "\n",
    "andzia.shape[0]"
   ]
  },
  {
   "cell_type": "code",
   "execution_count": 35,
   "metadata": {},
   "outputs": [
    {
     "data": {
      "text/plain": [
       "4412"
      ]
     },
     "execution_count": 35,
     "metadata": {},
     "output_type": "execute_result"
    }
   ],
   "source": [
    "andzia = data[data['Fm_G4_36.GT'].isin(['1/1', '1|1']) & (data['SYMBOL'] != '.') & data['IMPACT'].isin(['3.MODERATE', '4.HIGH'])]\n",
    "\n",
    "andzia.shape[0]"
   ]
  }
 ],
 "metadata": {
  "kernelspec": {
   "display_name": "ibd",
   "language": "python",
   "name": "python3"
  },
  "language_info": {
   "codemirror_mode": {
    "name": "ipython",
    "version": 3
   },
   "file_extension": ".py",
   "mimetype": "text/x-python",
   "name": "python",
   "nbconvert_exporter": "python",
   "pygments_lexer": "ipython3",
   "version": "3.11.5"
  }
 },
 "nbformat": 4,
 "nbformat_minor": 2
}
